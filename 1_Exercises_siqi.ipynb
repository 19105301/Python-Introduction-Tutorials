{
 "cells": [
  {
   "cell_type": "markdown",
   "id": "38e188a5",
   "metadata": {},
   "source": [
    "# Exercise 00\n",
    "Write a piece of code that allocates a list of 20 integers and initializes each element by its index multiplied by 5. Print the result."
   ]
  },
  {
   "cell_type": "code",
   "execution_count": 2,
   "id": "01aa4f35",
   "metadata": {},
   "outputs": [
    {
     "name": "stdout",
     "output_type": "stream",
     "text": [
      "[1, 2, 3, 4, 5, 6, 7, 8, 9, 10, 11, 12, 13, 14, 15, 16, 17, 18, 19, 20]\n",
      "[5, 10, 15, 20, 25, 30, 35, 40, 45, 50, 55, 60, 65, 70, 75, 80, 85, 90, 95, 100]\n"
     ]
    }
   ],
   "source": [
    "#Create Empty List and List of 20 Integers \n",
    "myList = []\n",
    "listofNrs = list(range(1, 20+1))\n",
    "\n",
    "#Multiply by 5 all Elements Within the List\n",
    "for x in listofNrs:\n",
    "    newlist = (x*5)\n",
    "    myList.append(newlist)\n",
    "\n",
    "#Print Original and New List\n",
    "print(listofNrs)\n",
    "print(myList)"
   ]
  },
  {
   "cell_type": "markdown",
   "id": "529d91ae",
   "metadata": {},
   "source": [
    "# Exercise 01\n",
    "Define a function that takes an integer as input, prints  all integers that it is divisable by, and returns the largest one."
   ]
  },
  {
   "cell_type": "code",
   "execution_count": 4,
   "id": "30e79132",
   "metadata": {},
   "outputs": [
    {
     "name": "stdin",
     "output_type": "stream",
     "text": [
      "Input integer 100\n",
      "test divisibility range 30\n"
     ]
    },
    {
     "name": "stdout",
     "output_type": "stream",
     "text": [
      "[1, 2, 4, 5, 10, 20, 25]\n"
     ]
    }
   ],
   "source": [
    "#Test of Code Without Functions \n",
    "divisibleList = []\n",
    "\n",
    "#Imput Integer and Integer to be Tested\n",
    "my_integer = int(input(\"Input integer\"))\n",
    "n = int(input(\"test divisibility range\"))\n",
    "\n",
    "#Iterate and Append Divisible List to New List \n",
    "for i in range(1, n):\n",
    "    if my_integer%i==0:\n",
    "        divisibleList.append(i)\n",
    "print(divisibleList)"
   ]
  },
  {
   "cell_type": "code",
   "execution_count": 5,
   "id": "8ddf75a5-80ec-48ba-b8dc-5b87ab3d5645",
   "metadata": {},
   "outputs": [],
   "source": [
    "#Define Function to Test Divisibility\n",
    "def divisible_checker(n):\n",
    "    for i in range(1, n):\n",
    "        if my_integer%i==0:\n",
    "            divisibleList.append(i)\n",
    "    largestnumber = max(divisibleList)\n",
    "    print(divisibleList)\n",
    "    print(largestnumber)"
   ]
  },
  {
   "cell_type": "code",
   "execution_count": 6,
   "id": "062c0916-a2bb-4429-b9eb-28f3f7623b16",
   "metadata": {},
   "outputs": [
    {
     "name": "stdin",
     "output_type": "stream",
     "text": [
      "Input integer 100\n",
      "test divisibility range 30\n"
     ]
    },
    {
     "name": "stdout",
     "output_type": "stream",
     "text": [
      "[1, 2, 4, 5, 10, 20, 25]\n",
      "25\n"
     ]
    }
   ],
   "source": [
    "divisibleList = []\n",
    "my_integer = int(input(\"Input integer\"))\n",
    "n = int(input(\"test divisibility range\"))\n",
    "divisible_checker(n)"
   ]
  },
  {
   "cell_type": "markdown",
   "id": "cfbe30d4",
   "metadata": {},
   "source": [
    "# Exercise 02\n",
    "- create a dictionary with 6 keys and values of your choice\n",
    "- write a function that takes a dictionary and a value as input and returns whether the value occurs as a key in the dictionary\n",
    "- write a function that takes a dictionary as input, and returns the dictionary but the keys are swapped with their values (resolve the issue if a value occurs twice!)"
   ]
  },
  {
   "cell_type": "code",
   "execution_count": 8,
   "id": "2123f1c6",
   "metadata": {},
   "outputs": [],
   "source": [
    "thisDict = {\n",
    "    'developer':'Maxis',\n",
    "    'publisher':'Electronic Arts',\n",
    "    'designer':'Will Wright',\n",
    "    'year':'2008',\n",
    "    'game type':' life simulation',\n",
    "    'stages':'5'}\n",
    "\n",
    "def valuechecker (x, y):\n",
    "    if x in y:\n",
    "        print(\"this value occurs as a key\")\n",
    "\n",
    "    else:\n",
    "        print(\"I have no idea what you talking about\")"
   ]
  },
  {
   "cell_type": "code",
   "execution_count": 9,
   "id": "90cf26b3-54e6-4002-8903-ad3a02e8326f",
   "metadata": {},
   "outputs": [
    {
     "name": "stdout",
     "output_type": "stream",
     "text": [
      "I have no idea what you talking about\n"
     ]
    }
   ],
   "source": [
    "valuechecker('dog',thisDict)"
   ]
  },
  {
   "cell_type": "code",
   "execution_count": 10,
   "id": "a01a056e-8277-4d54-9c62-7366d69d30de",
   "metadata": {},
   "outputs": [
    {
     "name": "stdout",
     "output_type": "stream",
     "text": [
      "{'Maxis': 'developer', 'Electronic Arts': 'publisher', 'Will Wright': 'designer', '2008': 'year', ' life simulation': 'game type', '5': 'stages'}\n"
     ]
    }
   ],
   "source": [
    "def dictionaryreverse(x,y):\n",
    "    newDict = {x:y for y,x in thisDict.items()}\n",
    "    print(newDict)\n",
    "    \n",
    "v = thisDict.values()\n",
    "k = thisDict.keys()\n",
    "dictionaryreverse(v,k)\n"
   ]
  },
  {
   "cell_type": "markdown",
   "id": "b4b4e426",
   "metadata": {},
   "source": [
    "# Exercise 03\n",
    "Define a function that creates a dictionary of the first n fibonacci numbers as values paired with their indices as keys. "
   ]
  },
  {
   "cell_type": "code",
   "execution_count": 12,
   "id": "7845b5a4",
   "metadata": {},
   "outputs": [],
   "source": [
    "def fibonaccidictionary(n): \n",
    "    a = 0\n",
    "    b = 1\n",
    "    for i in range(n):\n",
    "        t = a\n",
    "        a = b\n",
    "        b = t+b\n",
    "        my_list.append(a)\n",
    "    keys = range(0, n+1)\n",
    "    for key in keys:\n",
    "        my_dict[key] = my_list\n",
    "    print(my_dict)"
   ]
  },
  {
   "cell_type": "code",
   "execution_count": 13,
   "id": "53d078a9-8c24-4f41-b61c-2ab3fa898933",
   "metadata": {},
   "outputs": [
    {
     "name": "stdout",
     "output_type": "stream",
     "text": [
      "{0: [1, 1, 2, 3, 5, 8], 1: [1, 1, 2, 3, 5, 8], 2: [1, 1, 2, 3, 5, 8], 3: [1, 1, 2, 3, 5, 8], 4: [1, 1, 2, 3, 5, 8], 5: [1, 1, 2, 3, 5, 8], 6: [1, 1, 2, 3, 5, 8]}\n"
     ]
    }
   ],
   "source": [
    "my_dict = {}\n",
    "my_list =[]\n",
    "fibonaccidictionary(6)"
   ]
  }
 ],
 "metadata": {
  "kernelspec": {
   "display_name": "Python 3 (ipykernel)",
   "language": "python",
   "name": "python3"
  },
  "language_info": {
   "codemirror_mode": {
    "name": "ipython",
    "version": 3
   },
   "file_extension": ".py",
   "mimetype": "text/x-python",
   "name": "python",
   "nbconvert_exporter": "python",
   "pygments_lexer": "ipython3",
   "version": "3.12.3"
  }
 },
 "nbformat": 4,
 "nbformat_minor": 5
}
